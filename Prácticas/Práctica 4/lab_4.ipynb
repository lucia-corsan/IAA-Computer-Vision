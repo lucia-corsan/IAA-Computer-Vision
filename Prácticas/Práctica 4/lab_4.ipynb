{
 "cells": [
  {
   "cell_type": "markdown",
   "metadata": {},
   "source": [
    "# Práctica 4\n",
    "### Lucía Cordero y Jorge Garcelán"
   ]
  },
  {
   "cell_type": "markdown",
   "metadata": {},
   "source": []
  },
  {
   "cell_type": "code",
   "execution_count": null,
   "metadata": {},
   "outputs": [],
   "source": [
    "import cv2\n",
    "import numpy as np\n",
    "\n",
    "# Cargar la imagen\n",
    "image = cv2.imread(\"./imagenes/Piezas.png\")\n",
    "\n",
    "if image is None:\n",
    "    print(\"Error!!\")\n",
    "    exit(1)\n",
    "\n",
    "cv2.imshow(\"Input Image\", image)\n",
    "\n",
    "# Convertir a escala de grises y umbralizar\n",
    "image_gray = cv2.cvtColor(image, cv2.COLOR_BGR2GRAY)\n",
    "_, image_thresh = cv2.threshold(image_gray, 128, 255, cv2.THRESH_BINARY_INV)\n",
    "\n",
    "# Encontrar contornos\n",
    "contours, _ = cv2.findContours(image_thresh, cv2.RETR_LIST, cv2.CHAIN_APPROX_NONE)\n",
    "\n",
    "# Dibujar contornos\n",
    "contour_image = np.zeros_like(image)\n",
    "colors = [(255, 0, 0), (0, 255, 0), (0, 0, 255)]\n",
    "for idx, contour in enumerate(contours):\n",
    "    cv2.drawContours(contour_image, contours, idx, colors[idx % 3], 1)\n",
    "\n",
    "cv2.imshow(\"Contours\", contour_image)\n",
    "cv2.waitKey(0)\n",
    "cv2.destroyAllWindows()"
   ]
  },
  {
   "cell_type": "markdown",
   "metadata": {},
   "source": []
  },
  {
   "cell_type": "code",
   "execution_count": null,
   "metadata": {},
   "outputs": [],
   "source": []
  }
 ],
 "metadata": {
  "kernelspec": {
   "display_name": ".venv",
   "language": "python",
   "name": "python3"
  },
  "language_info": {
   "name": "python",
   "version": "3.9.6"
  }
 },
 "nbformat": 4,
 "nbformat_minor": 2
}
