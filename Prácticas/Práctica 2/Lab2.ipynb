{
 "cells": [
  {
   "cell_type": "markdown",
   "metadata": {},
   "source": [
    "# Práctica 2\n",
    "\n",
    "# Parte 1: Histogramas"
   ]
  },
  {
   "cell_type": "code",
   "execution_count": 9,
   "metadata": {},
   "outputs": [
    {
     "name": "stdout",
     "output_type": "stream",
     "text": [
      "Error al cargar la imagen: C:/Users/LUCIA/Documents/VISIÓN ARTIFICIAL/IAA-Computer-Vision/Prácticas/imagenes/imagenes/ivvi_684x684.jpg\n"
     ]
    },
    {
     "ename": "IndexError",
     "evalue": "tuple index out of range",
     "output_type": "error",
     "traceback": [
      "\u001b[1;31m---------------------------------------------------------------------------\u001b[0m",
      "\u001b[1;31mIndexError\u001b[0m                                Traceback (most recent call last)",
      "Cell \u001b[1;32mIn[9], line 22\u001b[0m\n\u001b[0;32m     19\u001b[0m range_hist \u001b[38;5;241m=\u001b[39m [\u001b[38;5;241m0\u001b[39m, \u001b[38;5;241m256\u001b[39m]\n\u001b[0;32m     21\u001b[0m \u001b[38;5;66;03m# Calcular los histogramas\u001b[39;00m\n\u001b[1;32m---> 22\u001b[0m b_hist \u001b[38;5;241m=\u001b[39m cv2\u001b[38;5;241m.\u001b[39mcalcHist([\u001b[43mbgr_planes\u001b[49m\u001b[43m[\u001b[49m\u001b[38;5;241;43m0\u001b[39;49m\u001b[43m]\u001b[49m], [\u001b[38;5;241m0\u001b[39m], \u001b[38;5;28;01mNone\u001b[39;00m, [hist_size], range_hist)\n\u001b[0;32m     23\u001b[0m g_hist \u001b[38;5;241m=\u001b[39m cv2\u001b[38;5;241m.\u001b[39mcalcHist([bgr_planes[\u001b[38;5;241m1\u001b[39m]], [\u001b[38;5;241m0\u001b[39m], \u001b[38;5;28;01mNone\u001b[39;00m, [hist_size], range_hist)\n\u001b[0;32m     24\u001b[0m r_hist \u001b[38;5;241m=\u001b[39m cv2\u001b[38;5;241m.\u001b[39mcalcHist([bgr_planes[\u001b[38;5;241m2\u001b[39m]], [\u001b[38;5;241m0\u001b[39m], \u001b[38;5;28;01mNone\u001b[39;00m, [hist_size], range_hist)\n",
      "\u001b[1;31mIndexError\u001b[0m: tuple index out of range"
     ]
    }
   ],
   "source": [
    "import cv2\n",
    "import numpy as np\n",
    "import matplotlib.pyplot as plt\n",
    "\n",
    "# Nombre del fichero\n",
    "nombre_imagen = \"C:/Users/LUCIA/Documents/VISIÓN ARTIFICIAL/IAA-Computer-Vision/Prácticas/imagenes/imagenes/ivvi_684x684.jpg\"\n",
    "\n",
    "# Cargamos la imagen y comprobamos que lo ha hecho correctamente\n",
    "src = cv2.imread(nombre_imagen)\n",
    "if src is None:\n",
    "    print(f\"Error al cargar la imagen: {nombre_imagen}\")\n",
    "    exit(1)\n",
    "\n",
    "# Separar la imagen en 3 subimágenes (B, G, R)\n",
    "bgr_planes = cv2.split(src)\n",
    "\n",
    "# Variables para el histograma\n",
    "hist_size = 256\n",
    "range_hist = [0, 256]\n",
    "\n",
    "# Calcular los histogramas\n",
    "b_hist = cv2.calcHist([bgr_planes[0]], [0], None, [hist_size], range_hist)\n",
    "g_hist = cv2.calcHist([bgr_planes[1]], [0], None, [hist_size], range_hist)\n",
    "r_hist = cv2.calcHist([bgr_planes[2]], [0], None, [hist_size], range_hist)\n",
    "\n",
    "# Normalizar los histogramas\n",
    "b_hist = cv2.normalize(b_hist, None, alpha=0, beta=400, norm_type=cv2.NORM_MINMAX)\n",
    "g_hist = cv2.normalize(g_hist, None, alpha=0, beta=400, norm_type=cv2.NORM_MINMAX)\n",
    "r_hist = cv2.normalize(r_hist, None, alpha=0, beta=400, norm_type=cv2.NORM_MINMAX)\n",
    "\n",
    "# Dibujar el histograma\n",
    "hist_w, hist_h = 512, 400\n",
    "hist_image = np.zeros((hist_h, hist_w, 3), dtype=np.uint8)\n",
    "bin_w = int(hist_w / hist_size)\n",
    "\n",
    "for i in range(1, hist_size):\n",
    "    cv2.line(hist_image, (bin_w * (i - 1), hist_h - int(b_hist[i - 1])),\n",
    "             (bin_w * i, hist_h - int(b_hist[i])), (255, 0, 0), 2)\n",
    "    cv2.line(hist_image, (bin_w * (i - 1), hist_h - int(g_hist[i - 1])),\n",
    "             (bin_w * i, hist_h - int(g_hist[i])), (0, 255, 0), 2)\n",
    "    cv2.line(hist_image, (bin_w * (i - 1), hist_h - int(r_hist[i - 1])),\n",
    "             (bin_w * i, hist_h - int(r_hist[i])), (0, 0, 255), 2)\n",
    "\n",
    "# Mostrar las imágenes\n",
    "cv2.imshow(\"Original\", src)\n",
    "cv2.imshow(\"Histograma\", hist_image)\n",
    "\n",
    "# Esperar a pulsar una tecla y cerrar\n",
    "cv2.waitKey(0)\n",
    "cv2.destroyAllWindows()\n"
   ]
  },
  {
   "cell_type": "code",
   "execution_count": null,
   "metadata": {},
   "outputs": [],
   "source": [
    "import os\n",
    "\n",
    "# Check if the file exists\n",
    "if not os.path.exists(nombre_imagen):\n",
    "    print(f\"El fichero no existe: {nombre_imagen}\")\n",
    "else:\n",
    "    # Cargamos la imagen y comprobamos que lo ha hecho correctamente\n",
    "    src = cv2.imread(nombre_imagen)\n",
    "    if src is None:\n",
    "        print(f\"Error al cargar la imagen: {nombre_imagen}\")\n",
    "        exit(1)\n",
    "\n",
    "    # Separar la imagen en 3 subimágenes (B, G, R)\n",
    "    bgr_planes = cv2.split(src)\n",
    "\n",
    "    # Variables para el histograma\n",
    "    hist_size = 256\n",
    "    range_hist = [0, 256]\n",
    "\n",
    "    # Calcular los histogramas\n",
    "    b_hist = cv2.calcHist([bgr_planes[0]], [0], None, [hist_size], range_hist)\n",
    "    g_hist = cv2.calcHist([bgr_planes[1]], [0], None, [hist_size], range_hist)\n",
    "    r_hist = cv2.calcHist([bgr_planes[2]], [0], None, [hist_size], range_hist)\n",
    "\n",
    "    # Normalizar los histogramas\n",
    "    b_hist = cv2.normalize(b_hist, None, alpha=0, beta=400, norm_type=cv2.NORM_MINMAX)\n",
    "    g_hist = cv2.normalize(g_hist, None, alpha=0, beta=400, norm_type=cv2.NORM_MINMAX)\n",
    "    r_hist = cv2.normalize(r_hist, None, alpha=0, beta=400, norm_type=cv2.NORM_MINMAX)\n",
    "\n",
    "    # Dibujar el histograma\n",
    "    hist_w, hist_h = 512, 400\n",
    "    hist_image = np.zeros((hist_h, hist_w, 3), dtype=np.uint8)\n",
    "    bin_w = int(hist_w / hist_size)\n",
    "\n",
    "    for i in range(1, hist_size):\n",
    "        cv2.line(hist_image, (bin_w * (i - 1), hist_h - int(b_hist[i - 1])),\n",
    "                 (bin_w * i, hist_h - int(b_hist[i])), (255, 0, 0), 2)\n",
    "        cv2.line(hist_image, (bin_w * (i - 1), hist_h - int(g_hist[i - 1])),\n",
    "                 (bin_w * i, hist_h - int(g_hist[i])), (0, 255, 0), 2)\n",
    "        cv2.line(hist_image, (bin_w * (i - 1), hist_h - int(r_hist[i - 1])),\n",
    "                 (bin_w * i, hist_h - int(r_hist[i])), (0, 0, 255), 2)\n",
    "\n",
    "    # Mostrar las imágenes\n",
    "    cv2.imshow(\"Original\", src)\n",
    "    cv2.imshow(\"Histograma\", hist_image)\n",
    "\n",
    "    # Esperar a pulsar una tecla y cerrar\n",
    "    cv2.waitKey(0)\n",
    "    cv2.destroyAllWindows()"
   ]
  }
 ],
 "metadata": {
  "kernelspec": {
   "display_name": "Python 3",
   "language": "python",
   "name": "python3"
  },
  "language_info": {
   "codemirror_mode": {
    "name": "ipython",
    "version": 3
   },
   "file_extension": ".py",
   "mimetype": "text/x-python",
   "name": "python",
   "nbconvert_exporter": "python",
   "pygments_lexer": "ipython3",
   "version": "3.11.2"
  }
 },
 "nbformat": 4,
 "nbformat_minor": 2
}
