{
 "cells": [
  {
   "cell_type": "markdown",
   "metadata": {},
   "source": [
    "## Lab 1"
   ]
  },
  {
   "cell_type": "code",
   "execution_count": 5,
   "metadata": {},
   "outputs": [],
   "source": [
    "import cv2"
   ]
  },
  {
   "cell_type": "markdown",
   "metadata": {},
   "source": [
    "### Cargar imágenes del disco"
   ]
  },
  {
   "cell_type": "code",
   "execution_count": 6,
   "metadata": {},
   "outputs": [],
   "source": [
    "# Definir la ruta de la imagen\n",
    "IMAGEN = \"C:/Users/LUCIA/Downloads/imagenes/imagenes/ivvi.jpg\"\n",
    "\n",
    "# Cargar la imagen desde disco\n",
    "imagen = cv2.imread(IMAGEN)\n",
    "\n",
    "# Verificar si la imagen se cargó correctamente\n",
    "if imagen is None:\n",
    "    print(f\"Error al cargar la imagen: {IMAGEN}\")\n",
    "    exit(1)\n",
    "\n",
    "# Crear una ventana y mostrar la imagen\n",
    "cv2.imshow(\"Original\", imagen)\n",
    "\n",
    "# Esperar hasta que se presione una tecla\n",
    "cv2.waitKey(0)\n",
    "cv2.destroyAllWindows()\n"
   ]
  },
  {
   "cell_type": "markdown",
   "metadata": {},
   "source": [
    "### Cargar vídeo del disco"
   ]
  },
  {
   "cell_type": "code",
   "execution_count": 12,
   "metadata": {},
   "outputs": [],
   "source": [
    "# Definir constantes\n",
    "TECLA_ESCAPE = 27\n",
    "VIDEO = \"C:/Users/LUCIA/Downloads/videos/videos/icab_demo_EPS.mp4\"\n",
    "\n",
    "# Capturar el video\n",
    "capture = cv2.VideoCapture(VIDEO)\n",
    "\n",
    "# Verificar si el video se ha cargado correctamente\n",
    "if not capture.isOpened():\n",
    "    print(\"Error al cargar el video!\")\n",
    "else:\n",
    "    # Crear una ventana para mostrar el video\n",
    "    cv2.namedWindow(\"video\", cv2.WINDOW_AUTOSIZE)\n",
    "    \n",
    "    while True:\n",
    "        # Leer frame por frame\n",
    "        ret, frame = capture.read()\n",
    "        \n",
    "        # Verificar si se ha llegado al final del video\n",
    "        if not ret:\n",
    "            print(\"Se ha llegado al final del video\")\n",
    "            break\n",
    "        \n",
    "        # Mostrar la imagen\n",
    "        cv2.imshow(\"video\", frame)\n",
    "        \n",
    "        # Esperar 20 ms y detectar si se presiona la tecla ESC\n",
    "        if cv2.waitKey(20) & 0xFF == TECLA_ESCAPE:\n",
    "            break\n",
    "    \n",
    "    # Liberar los recursos\n",
    "    capture.release()\n",
    "    cv2.destroyAllWindows()\n"
   ]
  },
  {
   "cell_type": "markdown",
   "metadata": {},
   "source": [
    "### Cargar la imagen de la cámara"
   ]
  },
  {
   "cell_type": "code",
   "execution_count": 13,
   "metadata": {},
   "outputs": [],
   "source": [
    "# Definir constantes\n",
    "TECLA_ESCAPE = 27\n",
    "CAMARA_0 = 0\n",
    "\n",
    "# Capturar video desde la cámara\n",
    "capture = cv2.VideoCapture(CAMARA_0)\n",
    "\n",
    "# Verificar que la cámara está conectada\n",
    "if not capture.isOpened():\n",
    "    print(\"Error al conectarse a la cámara!\")\n",
    "else:\n",
    "    cv2.namedWindow(\"video\", cv2.WINDOW_AUTOSIZE)\n",
    "    pressed_key = -1\n",
    "    \n",
    "    while pressed_key != TECLA_ESCAPE:\n",
    "        ret, frame = capture.read()\n",
    "        \n",
    "        if not ret:\n",
    "            print(\"Problema al leer la imagen\")\n",
    "            break\n",
    "        \n",
    "        cv2.imshow(\"video\", frame)\n",
    "        pressed_key = cv2.waitKey(20) & 0xFF\n",
    "\n",
    "# Liberar recursos\n",
    "capture.release()\n",
    "cv2.destroyAllWindows()"
   ]
  }
 ],
 "metadata": {
  "kernelspec": {
   "display_name": "Python 3",
   "language": "python",
   "name": "python3"
  },
  "language_info": {
   "codemirror_mode": {
    "name": "ipython",
    "version": 3
   },
   "file_extension": ".py",
   "mimetype": "text/x-python",
   "name": "python",
   "nbconvert_exporter": "python",
   "pygments_lexer": "ipython3",
   "version": "3.11.2"
  }
 },
 "nbformat": 4,
 "nbformat_minor": 2
}
