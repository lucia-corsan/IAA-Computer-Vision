{
 "cells": [
  {
   "cell_type": "markdown",
   "metadata": {},
   "source": [
    "# Práctica 3\n",
    "### Lucía Cordero y Jorge Garcelán"
   ]
  },
  {
   "cell_type": "code",
   "execution_count": null,
   "metadata": {},
   "outputs": [],
   "source": [
    "import cv2\n",
    "import numpy as np"
   ]
  },
  {
   "cell_type": "markdown",
   "metadata": {},
   "source": [
    "## Reducción Ruido"
   ]
  },
  {
   "cell_type": "code",
   "execution_count": null,
   "metadata": {},
   "outputs": [],
   "source": [
    "# Nombre de las imágenes\n",
    "nombre_imagen = \"C:/Users/LUCIA/Downloads/imagenes/imagenes/ivvi_512x512_gray_rg.jpg\"\n",
    "nombre_imagen_ivvi = \"C:/Users/LUCIA/Downloads/imagenes/imagenes/ivvi_512x512_gray.jpg\"\n",
    "\n",
    "# Cargar la imagen y verificar que se ha cargado correctamente\n",
    "src = cv2.imread(nombre_imagen)\n",
    "if src is None:\n",
    "    print(f\"Error al cargar la imagen: {nombre_imagen}\")\n",
    "    exit(1)\n",
    "\n",
    "ivvi = cv2.imread(nombre_imagen_ivvi)\n",
    "if ivvi is None:\n",
    "    print(f\"Error al cargar la imagen: {nombre_imagen_ivvi}\")\n",
    "    exit(1)\n",
    "\n",
    "# Filtro de la media\n",
    "im_blr = cv2.blur(src, (3, 3))\n",
    "\n",
    "# Filtro gaussiano\n",
    "im_gus = cv2.GaussianBlur(src, (5, 5), 0)\n",
    "\n",
    "# Filtro de la mediana\n",
    "im_med = cv2.medianBlur(src, 3)\n",
    "\n",
    "# Filtro bilateral\n",
    "im_bil = cv2.bilateralFilter(src, 15, 40, 8)\n",
    "\n",
    "# Mostrar las imágenes\n",
    "cv2.imshow(\"Vehiculo IVVI\", ivvi)\n",
    "cv2.imshow(\"Original con ruido\", src)\n",
    "cv2.imshow(\"Blur\", im_blr)\n",
    "cv2.imshow(\"Gaussian\", im_gus)\n",
    "cv2.imshow(\"Median\", im_med)\n",
    "cv2.imshow(\"Bilateral\", im_bil)\n",
    "\n",
    "# Esperar a pulsar una tecla y cerrar las ventanas\n",
    "cv2.waitKey(0)\n",
    "cv2.destroyAllWindows()\n"
   ]
  },
  {
   "cell_type": "markdown",
   "metadata": {},
   "source": [
    "## Realce Bordes"
   ]
  },
  {
   "cell_type": "code",
   "execution_count": 3,
   "metadata": {},
   "outputs": [],
   "source": [
    "# Nombre de la imagen que se va a cargar\n",
    "nombre_imagen = \"C:/Users/LUCIA/Downloads/imagenes/imagenes/ivvi_684x684_gray.jpg\"\n",
    "\n",
    "# Cargar la imagen\n",
    "imagen = cv2.imread(nombre_imagen, cv2.IMREAD_GRAYSCALE)\n",
    "if imagen is None:\n",
    "    print(f\"Error al cargar la imagen: {nombre_imagen}\")\n",
    "    exit(1)\n",
    "\n",
    "# Definir el kernel para el realce de bordes\n",
    "rel_bord = np.array([\n",
    "    [0, -1, 0],\n",
    "    [-1, 5, -1],\n",
    "    [0, -1, 0]\n",
    "], dtype=np.int8)\n",
    "\n",
    "# Aplicar el filtro\n",
    "imagen_filt = cv2.filter2D(imagen, -1, rel_bord)\n",
    "\n",
    "# Mostrar la imagen original y la filtrada\n",
    "cv2.imshow(\"Imagen original\", imagen)\n",
    "cv2.imshow(\"Imagen modificada\", imagen_filt)\n",
    "\n",
    "# Esperar a que se pulse una tecla\n",
    "cv2.waitKey(0)\n",
    "cv2.destroyAllWindows()\n"
   ]
  },
  {
   "cell_type": "markdown",
   "metadata": {},
   "source": [
    "## Sobel"
   ]
  },
  {
   "cell_type": "code",
   "execution_count": 3,
   "metadata": {},
   "outputs": [],
   "source": [
    "# Nombre de la imagen que se va a cargar\n",
    "nombre_imagen = \"C:/Users/LUCIA/Downloads/imagenes/imagenes/ivvi_684x684_gray.jpg\"\n",
    "\n",
    "# Cargar la imagen\n",
    "src = cv2.imread(nombre_imagen, cv2.IMREAD_GRAYSCALE)\n",
    "if src is None:\n",
    "    print(f\"Error al cargar la imagen: {nombre_imagen}\")\n",
    "    exit(1)\n",
    "\n",
    "# Generar grad_x y grad_y\n",
    "grad_x = cv2.Sobel(src, cv2.CV_16S, 1, 0)\n",
    "grad_y = cv2.Sobel(src, cv2.CV_16S, 0, 1)\n",
    "\n",
    "# Convertir a escala absoluta\n",
    "abs_grad_x = cv2.convertScaleAbs(grad_x)\n",
    "abs_grad_y = cv2.convertScaleAbs(grad_y)\n",
    "\n",
    "# Total Gradiente (aproximado)\n",
    "grad = cv2.addWeighted(abs_grad_x, 0.5, abs_grad_y, 0.5, 0)\n",
    "cv2.threshold(grad, 80, 255, cv2.THRESH_BINARY, grad)\n",
    "\n",
    "# Mostrar la imagen original y el resultado\n",
    "cv2.imshow(\"Original\", src)\n",
    "cv2.imshow(\"Sobel\", grad)\n",
    "\n",
    "# Esperar a pulsar una tecla\n",
    "cv2.waitKey(0)\n",
    "cv2.destroyAllWindows()\n"
   ]
  },
  {
   "cell_type": "markdown",
   "metadata": {},
   "source": [
    "## Canny"
   ]
  },
  {
   "cell_type": "code",
   "execution_count": 2,
   "metadata": {},
   "outputs": [],
   "source": [
    "import cv2\n",
    "import numpy as np\n",
    "\n",
    "# Nombre de la imagen\n",
    "nombre_imagen = \"C:/Users/LUCIA/Downloads/imagenes/imagenes/ivvi_684x684_gray.jpg\"\n",
    "\n",
    "# Cargar la imagen y verificar que se ha cargado correctamente\n",
    "imagen = cv2.imread(nombre_imagen)\n",
    "if imagen is None:\n",
    "    print(f\"Error al cargar la imagen: {nombre_imagen}\")\n",
    "    exit(1)\n",
    "\n",
    "# Aplicar detector de bordes de Canny\n",
    "imagen_canny = cv2.Canny(imagen, 100, 150, 3)\n",
    "\n",
    "# Mostrar las imágenes\n",
    "cv2.imshow(\"Original\", imagen)\n",
    "cv2.imshow(\"Canny\", imagen_canny)\n",
    "\n",
    "# Esperar a pulsar una tecla y cerrar las ventanas\n",
    "cv2.waitKey(0)\n",
    "cv2.destroyAllWindows()"
   ]
  }
 ],
 "metadata": {
  "kernelspec": {
   "display_name": "Python 3",
   "language": "python",
   "name": "python3"
  },
  "language_info": {
   "codemirror_mode": {
    "name": "ipython",
    "version": 3
   },
   "file_extension": ".py",
   "mimetype": "text/x-python",
   "name": "python",
   "nbconvert_exporter": "python",
   "pygments_lexer": "ipython3",
   "version": "3.11.2"
  }
 },
 "nbformat": 4,
 "nbformat_minor": 2
}
