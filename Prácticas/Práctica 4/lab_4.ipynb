{
 "cells": [
  {
   "cell_type": "markdown",
   "metadata": {},
   "source": [
    "# Práctica 4\n",
    "### Lucía Cordero y Jorge Garcelán"
   ]
  },
  {
   "cell_type": "markdown",
   "metadata": {},
   "source": [
    "## Contornos"
   ]
  },
  {
   "cell_type": "code",
   "execution_count": null,
   "metadata": {},
   "outputs": [],
   "source": [
    "import cv2\n",
    "import numpy as np\n",
    "\n",
    "# Cargar la imagen\n",
    "image = cv2.imread(\"./Imagenes/Imagenes/Piezas.png\")\n",
    "\n",
    "if image is None:\n",
    "    print(\"Error!!\")\n",
    "    exit(1)\n",
    "\n",
    "cv2.imshow(\"Input Image\", image)\n",
    "\n",
    "# Convertir a escala de grises y umbralizar\n",
    "image_gray = cv2.cvtColor(image, cv2.COLOR_BGR2GRAY)\n",
    "_, image_thresh = cv2.threshold(image_gray, 128, 255, cv2.THRESH_BINARY_INV)\n",
    "\n",
    "# Encontrar contornos\n",
    "contours, _ = cv2.findContours(image_thresh, cv2.RETR_LIST, cv2.CHAIN_APPROX_NONE)\n",
    "\n",
    "# Dibujar contornos\n",
    "contour_image = np.zeros_like(image)\n",
    "colors = [(255, 0, 0), (0, 255, 0), (0, 0, 255)]\n",
    "for idx, contour in enumerate(contours):\n",
    "    cv2.drawContours(contour_image, contours, idx, colors[idx % 3], 1)\n",
    "\n",
    "cv2.imshow(\"Contours\", contour_image)\n",
    "cv2.waitKey(0)\n",
    "cv2.destroyAllWindows()"
   ]
  },
  {
   "cell_type": "markdown",
   "metadata": {},
   "source": [
    "## Descriptores"
   ]
  },
  {
   "cell_type": "code",
   "execution_count": null,
   "metadata": {},
   "outputs": [],
   "source": [
    "import cv2\n",
    "import numpy as np\n",
    "import csv\n",
    "\n",
    "# Cargar la imagen\n",
    "image = cv2.imread(\"./Imagenes/Imagenes/pieza3.png\")\n",
    "nombre_archivo = \"descriptores.txt\"\n",
    "\n",
    "if image is None:\n",
    "    print(\"Error!!\")\n",
    "    exit(1)\n",
    "\n",
    "cv2.imshow(\"Input Image\", image)\n",
    "\n",
    "# Convertir a escala de grises y umbralizar\n",
    "image_gray = cv2.cvtColor(image, cv2.COLOR_BGR2GRAY)\n",
    "_, image_thresh = cv2.threshold(image_gray, 128, 255, cv2.THRESH_BINARY_INV)\n",
    "\n",
    "# Encontrar contornos\n",
    "contours, _ = cv2.findContours(image_thresh, cv2.RETR_LIST, cv2.CHAIN_APPROX_NONE)\n",
    "\n",
    "print(f\"El número de piezas es {len(contours)}\")\n",
    "\n",
    "perimetro = []\n",
    "area = []\n",
    "momentos = []\n",
    "hu_moments = []\n",
    "\n",
    "# Extraer descriptores\n",
    "for contour in contours:\n",
    "    perimetro.append(cv2.arcLength(contour, True))\n",
    "    area.append(cv2.contourArea(contour))\n",
    "    momentos.append(cv2.moments(contour))\n",
    "    hu = cv2.HuMoments(momentos[-1]).flatten()\n",
    "    hu_moments.append(hu)\n",
    "\n",
    "# Guardar descriptores en archivo CSV\n",
    "with open(nombre_archivo, mode='w', newline='') as archivo:\n",
    "    writer = csv.writer(archivo)\n",
    "    writer.writerow([\"perimetro\", \"area\", \"Hu1\", \"Hu2\", \"Hu3\", \"Hu4\", \"Hu5\", \"Hu6\", \"Hu7\"])\n",
    "    for i in range(len(contours)):\n",
    "        writer.writerow([perimetro[i], area[i], *hu_moments[i]])\n",
    "\n",
    "cv2.imshow(\"image\", image)\n",
    "cv2.waitKey(0)\n",
    "cv2.destroyAllWindows()\n"
   ]
  },
  {
   "cell_type": "markdown",
   "metadata": {},
   "source": [
    "## Bayes"
   ]
  },
  {
   "cell_type": "code",
   "execution_count": 3,
   "metadata": {},
   "outputs": [
    {
     "name": "stdout",
     "output_type": "stream",
     "text": [
      "train_data shape: (124, 9)\n",
      "response_data shape: (124, 1)\n"
     ]
    }
   ],
   "source": [
    "print(f\"train_data shape: {train_data.shape}\")\n",
    "print(f\"response_data shape: {response_data.shape}\")\n"
   ]
  },
  {
   "cell_type": "code",
   "execution_count": 16,
   "metadata": {},
   "outputs": [
    {
     "name": "stdout",
     "output_type": "stream",
     "text": [
      "El número de descriptores es: 5 con 3 momentos de Hu, perimetro y área\n",
      "El número total de piezas utilizadas para entrenamiento es: 124\n",
      "El número total de piezas a clasificar es: 12\n",
      "La predicción es 1 (Forma T)\n",
      "La predicción es 1 (Forma T)\n",
      "La predicción es 2 (Cruzada)\n",
      "La predicción es 0 (Palillo)\n",
      "La predicción es 1 (Forma T)\n",
      "La predicción es 0 (Palillo)\n",
      "La predicción es 0 (Palillo)\n",
      "La predicción es 1 (Forma T)\n",
      "La predicción es 2 (Cruzada)\n",
      "La predicción es 2 (Cruzada)\n",
      "La predicción es 0 (Palillo)\n",
      "La predicción es 2 (Cruzada)\n"
     ]
    }
   ],
   "source": [
    "import cv2\n",
    "import numpy as np\n",
    "import pickle\n",
    "\n",
    "# Definir constantes\n",
    "NUM_CLASES = 3\n",
    "HU_MOMENTS = 3  # Cambiado a 3 para evitar error de dimensión\n",
    "NUMDESCRIPTORES = HU_MOMENTS + 2  # Hu moments + perimetro + area\n",
    "print(f\"El número de descriptores es: {NUMDESCRIPTORES} con {HU_MOMENTS} momentos de Hu, perimetro y área\")\n",
    "CLASES = [\"./Imagenes/Imagenes/Pieza1.png\", \"./Imagenes/Imagenes/Pieza2.png\", \"./Imagenes/Imagenes/Pieza3.png\"]\n",
    "NOMBRE_CLASES = [\"Palillo\", \"Forma T\", \"Cruzada\"]\n",
    "IMAGEN_PIEZAS = \"./Imagenes/Imagenes/Piezas.png\"\n",
    "\n",
    "def prepare_train_data(data, responses, ntrain_samples):\n",
    "    sample_idx = np.zeros((1, data.shape[0]), dtype=np.uint8)\n",
    "    sample_idx[0, :ntrain_samples] = 1\n",
    "    var_type = np.ones((data.shape[1] + 1, 1), dtype=np.uint8) * cv2.ml.VAR_ORDERED\n",
    "    var_type[-1, 0] = cv2.ml.VAR_CATEGORICAL\n",
    "    return cv2.ml.TrainData_create(data, cv2.ml.ROW_SAMPLE, responses, sampleIdx=sample_idx, varType=var_type)\n",
    "\n",
    "# Cargar imágenes de entrenamiento\n",
    "imagenes_clase = [cv2.imread(img) for img in CLASES]\n",
    "\n",
    "if any(img is None for img in imagenes_clase):\n",
    "    print(\"Error al leer las imágenes de entrenamiento!!\")\n",
    "    exit(1)\n",
    "\n",
    "contours_clase = []\n",
    "for img in imagenes_clase:\n",
    "    img_gray = cv2.cvtColor(img, cv2.COLOR_BGR2GRAY)\n",
    "    _, img_thresh = cv2.threshold(img_gray, 128, 255, cv2.THRESH_BINARY_INV)\n",
    "    contours, _ = cv2.findContours(img_thresh, cv2.RETR_LIST, cv2.CHAIN_APPROX_NONE)\n",
    "    contours_clase.append(contours)\n",
    "\n",
    "nentre = sum(len(c) for c in contours_clase)\n",
    "print(f\"El número total de piezas utilizadas para entrenamiento es: {nentre}\")\n",
    "\n",
    "# Crear matrices para almacenar información\n",
    "train_data = np.zeros((nentre, NUMDESCRIPTORES), dtype=np.float32)\n",
    "response_data = np.zeros((nentre, 1), dtype=np.float32)\n",
    "\n",
    "k = 0\n",
    "for clase, contours in enumerate(contours_clase):\n",
    "    for contour in contours:\n",
    "        momentos = cv2.moments(contour)\n",
    "        hu = cv2.HuMoments(momentos).flatten()[:HU_MOMENTS]  # Tomar solo los primeros 3 momentos\n",
    "        perimetro = cv2.arcLength(contour, True)\n",
    "        area = cv2.contourArea(contour)\n",
    "        train_data[k, :HU_MOMENTS] = hu\n",
    "        train_data[k, HU_MOMENTS] = perimetro\n",
    "        train_data[k, HU_MOMENTS + 1] = area\n",
    "        response_data[k, 0] = clase\n",
    "        k += 1\n",
    "\n",
    "# Preparar datos de entrenamiento\n",
    "tdata = prepare_train_data(train_data, response_data, nentre)\n",
    "\n",
    "# Entrenar clasificador de Bayes\n",
    "bayes = cv2.ml.NormalBayesClassifier_create()\n",
    "bayes.train(tdata)\n",
    "\n",
    "# Guardar modelo con OpenCV\n",
    "bayes.save(\"bayes_model.xml\")\n",
    "\n",
    "# Clasificación\n",
    "clasificar_img = cv2.imread(IMAGEN_PIEZAS)\n",
    "if clasificar_img is None:\n",
    "    print(\"Error al leer la imagen para clasificar!!\")\n",
    "    exit(1)\n",
    "\n",
    "img_gray = cv2.cvtColor(clasificar_img, cv2.COLOR_BGR2GRAY)\n",
    "_, imagen_bin = cv2.threshold(img_gray, 128, 255, cv2.THRESH_BINARY_INV)\n",
    "contorno_piezas, _ = cv2.findContours(imagen_bin, cv2.RETR_LIST, cv2.CHAIN_APPROX_NONE)\n",
    "print(f\"El número total de piezas a clasificar es: {len(contorno_piezas)}\")\n",
    "\n",
    "imagen_color = cv2.cvtColor(imagen_bin, cv2.COLOR_GRAY2BGR)\n",
    "for idx, contorno in enumerate(contorno_piezas):\n",
    "    momentos = cv2.moments(contorno)\n",
    "    hu = cv2.HuMoments(momentos).flatten()[:HU_MOMENTS]  # Tomar solo los primeros 3 momentos\n",
    "    perimetro = cv2.arcLength(contorno, True)\n",
    "    area = cv2.contourArea(contorno)\n",
    "    test_data = np.array([np.concatenate((hu, [perimetro, area]))], dtype=np.float32)\n",
    "    clase = int(bayes.predict(test_data)[1][0][0])\n",
    "    print(f\"La predicción es {clase} ({NOMBRE_CLASES[clase]})\")\n",
    "    cv2.drawContours(imagen_color, [contorno], -1, (0, 0, 255), 2)\n",
    "    cv2.imshow(\"Clasificación\", imagen_color)\n",
    "    cv2.waitKey(0)\n",
    "\n",
    "cv2.destroyAllWindows()"
   ]
  }
 ],
 "metadata": {
  "kernelspec": {
   "display_name": "Python 3",
   "language": "python",
   "name": "python3"
  },
  "language_info": {
   "codemirror_mode": {
    "name": "ipython",
    "version": 3
   },
   "file_extension": ".py",
   "mimetype": "text/x-python",
   "name": "python",
   "nbconvert_exporter": "python",
   "pygments_lexer": "ipython3",
   "version": "3.11.2"
  }
 },
 "nbformat": 4,
 "nbformat_minor": 2
}
