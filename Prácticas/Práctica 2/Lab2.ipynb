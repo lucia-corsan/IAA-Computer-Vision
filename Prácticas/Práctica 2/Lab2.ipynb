{
 "cells": [
  {
   "cell_type": "markdown",
   "metadata": {},
   "source": [
    "# Práctica 2\n",
    "\n",
    "# Parte 1: Histogramas"
   ]
  },
  {
   "cell_type": "code",
   "execution_count": 1,
   "metadata": {},
   "outputs": [
    {
     "name": "stderr",
     "output_type": "stream",
     "text": [
      "C:\\Users\\LUCIA\\AppData\\Local\\Temp\\ipykernel_6632\\4132988261.py:37: DeprecationWarning: Conversion of an array with ndim > 0 to a scalar is deprecated, and will error in future. Ensure you extract a single element from your array before performing this operation. (Deprecated NumPy 1.25.)\n",
      "  cv2.line(hist_image, (bin_w * (i - 1), hist_h - int(b_hist[i - 1])),\n",
      "C:\\Users\\LUCIA\\AppData\\Local\\Temp\\ipykernel_6632\\4132988261.py:38: DeprecationWarning: Conversion of an array with ndim > 0 to a scalar is deprecated, and will error in future. Ensure you extract a single element from your array before performing this operation. (Deprecated NumPy 1.25.)\n",
      "  (bin_w * i, hist_h - int(b_hist[i])), (255, 0, 0), 2)\n",
      "C:\\Users\\LUCIA\\AppData\\Local\\Temp\\ipykernel_6632\\4132988261.py:39: DeprecationWarning: Conversion of an array with ndim > 0 to a scalar is deprecated, and will error in future. Ensure you extract a single element from your array before performing this operation. (Deprecated NumPy 1.25.)\n",
      "  cv2.line(hist_image, (bin_w * (i - 1), hist_h - int(g_hist[i - 1])),\n",
      "C:\\Users\\LUCIA\\AppData\\Local\\Temp\\ipykernel_6632\\4132988261.py:40: DeprecationWarning: Conversion of an array with ndim > 0 to a scalar is deprecated, and will error in future. Ensure you extract a single element from your array before performing this operation. (Deprecated NumPy 1.25.)\n",
      "  (bin_w * i, hist_h - int(g_hist[i])), (0, 255, 0), 2)\n",
      "C:\\Users\\LUCIA\\AppData\\Local\\Temp\\ipykernel_6632\\4132988261.py:41: DeprecationWarning: Conversion of an array with ndim > 0 to a scalar is deprecated, and will error in future. Ensure you extract a single element from your array before performing this operation. (Deprecated NumPy 1.25.)\n",
      "  cv2.line(hist_image, (bin_w * (i - 1), hist_h - int(r_hist[i - 1])),\n",
      "C:\\Users\\LUCIA\\AppData\\Local\\Temp\\ipykernel_6632\\4132988261.py:42: DeprecationWarning: Conversion of an array with ndim > 0 to a scalar is deprecated, and will error in future. Ensure you extract a single element from your array before performing this operation. (Deprecated NumPy 1.25.)\n",
      "  (bin_w * i, hist_h - int(r_hist[i])), (0, 0, 255), 2)\n"
     ]
    }
   ],
   "source": [
    "import cv2\n",
    "import numpy as np\n",
    "import matplotlib.pyplot as plt\n",
    "\n",
    "# Nombre del fichero\n",
    "nombre_imagen = \"C:/Users/LUCIA/Downloads/imagenes/imagenes/ivvi_684x684.jpg\"\n",
    "\n",
    "# Cargamos la imagen y comprobamos que lo ha hecho correctamente\n",
    "src = cv2.imread(nombre_imagen)\n",
    "if src is None:\n",
    "    print(f\"Error al cargar la imagen: {nombre_imagen}\")\n",
    "    exit(1)\n",
    "\n",
    "# Separar la imagen en 3 subimágenes (B, G, R)\n",
    "bgr_planes = cv2.split(src)\n",
    "\n",
    "# Variables para el histograma\n",
    "hist_size = 256\n",
    "range_hist = [0, 256]\n",
    "\n",
    "# Calcular los histogramas\n",
    "b_hist = cv2.calcHist([bgr_planes[0]], [0], None, [hist_size], range_hist)\n",
    "g_hist = cv2.calcHist([bgr_planes[1]], [0], None, [hist_size], range_hist)\n",
    "r_hist = cv2.calcHist([bgr_planes[2]], [0], None, [hist_size], range_hist)\n",
    "\n",
    "# Normalizar los histogramas\n",
    "b_hist = cv2.normalize(b_hist, None, alpha=0, beta=400, norm_type=cv2.NORM_MINMAX)\n",
    "g_hist = cv2.normalize(g_hist, None, alpha=0, beta=400, norm_type=cv2.NORM_MINMAX)\n",
    "r_hist = cv2.normalize(r_hist, None, alpha=0, beta=400, norm_type=cv2.NORM_MINMAX)\n",
    "\n",
    "# Dibujar el histograma\n",
    "hist_w, hist_h = 512, 400\n",
    "hist_image = np.zeros((hist_h, hist_w, 3), dtype=np.uint8)\n",
    "bin_w = int(hist_w / hist_size)\n",
    "\n",
    "for i in range(1, hist_size):\n",
    "    cv2.line(hist_image, (bin_w * (i - 1), hist_h - int(b_hist[i - 1])),\n",
    "             (bin_w * i, hist_h - int(b_hist[i])), (255, 0, 0), 2)\n",
    "    cv2.line(hist_image, (bin_w * (i - 1), hist_h - int(g_hist[i - 1])),\n",
    "             (bin_w * i, hist_h - int(g_hist[i])), (0, 255, 0), 2)\n",
    "    cv2.line(hist_image, (bin_w * (i - 1), hist_h - int(r_hist[i - 1])),\n",
    "             (bin_w * i, hist_h - int(r_hist[i])), (0, 0, 255), 2)\n",
    "\n",
    "# Mostrar las imágenes\n",
    "cv2.imshow(\"Original\", src)\n",
    "cv2.imshow(\"Histograma\", hist_image)\n",
    "\n",
    "# Esperar a pulsar una tecla y cerrar\n",
    "cv2.waitKey(0)\n",
    "cv2.destroyAllWindows()\n"
   ]
  },
  {
   "cell_type": "markdown",
   "metadata": {},
   "source": [
    "# Parte 2: Cambiar la saturación y el brillo"
   ]
  },
  {
   "cell_type": "code",
   "execution_count": null,
   "metadata": {},
   "outputs": [],
   "source": [
    "# Convertir de BGR a HSV\n",
    "imHSV = cv2.cvtColor(src, cv2.COLOR_BGR2HSV)\n",
    "\n",
    "# Separar en canales de Tono, Saturación y Valor\n",
    "hsv_planes = cv2.split(imHSV)\n",
    "\n",
    "# Mostrar imagen original\n",
    "cv2.imshow(\"Original\", src)\n",
    "\n",
    "# Mostrar imagen HSV\n",
    "cv2.imshow(\"HSV\", imHSV)\n",
    "\n",
    "# Mostrar canales individuales de HSV\n",
    "cv2.imshow(\"Tono\", hsv_planes[0])\n",
    "cv2.imshow(\"Saturación\", hsv_planes[1])\n",
    "cv2.imshow(\"Valor\", hsv_planes[2])\n",
    "\n",
    "hsv_planes = list(hsv_planes)  # Convertir tupla a lista\n",
    "\n",
    "# Aumentar brillo (canal de Valor)\n",
    "hsv_planes[2] = np.clip(hsv_planes[2].astype(np.int16) + 50, 0, 255).astype(np.uint8)\n",
    "imHSV = cv2.merge(hsv_planes)\n",
    "src2 = cv2.cvtColor(imHSV, cv2.COLOR_HSV2BGR)\n",
    "cv2.imshow(\"Brillo\", src2)\n",
    "\n",
    "# Aumentar saturación\n",
    "hsv_planes[1] = np.clip(hsv_planes[1] * 2, 0, 255)  # Evitar desbordamiento\n",
    "imHSV = cv2.merge(hsv_planes)\n",
    "src2 = cv2.cvtColor(imHSV, cv2.COLOR_HSV2BGR)\n",
    "cv2.imshow(\"Saturación\", src2)\n",
    "\n",
    "# Esperar a pulsar una tecla y cerrar ventanas\n",
    "cv2.waitKey(0)\n",
    "cv2.destroyAllWindows()"
   ]
  },
  {
   "cell_type": "markdown",
   "metadata": {},
   "source": [
    "# Parte 3: Cambiar el contraste"
   ]
  },
  {
   "cell_type": "code",
   "execution_count": 4,
   "metadata": {},
   "outputs": [
    {
     "name": "stdout",
     "output_type": "stream",
     "text": [
      "Valor mínimo: 3.0, Valor máximo: 91.0\n"
     ]
    }
   ],
   "source": [
    "# Nombre de la imagen que se va a cargar\n",
    "nombre_imagen = \"C:/Users/LUCIA/Downloads/imagenes/imagenes/ivvi_contraste.jpg\"\n",
    "\n",
    "# Cargar la imagen en escala de grises\n",
    "original_img = cv2.imread(nombre_imagen, cv2.IMREAD_GRAYSCALE)\n",
    "if original_img is None:\n",
    "    print(f\"Error al cargar la imagen: {nombre_imagen}\")\n",
    "    exit(1)\n",
    "\n",
    "# Ecualización del histograma\n",
    "equaliz_img = cv2.equalizeHist(original_img)\n",
    "\n",
    "# Amplitud de la escala\n",
    "min_val, max_val, min_loc, max_loc = cv2.minMaxLoc(original_img)\n",
    "print(f\"Valor mínimo: {min_val}, Valor máximo: {max_val}\")\n",
    "alpha = 255.0 / (max_val - min_val)\n",
    "beta = -min_val\n",
    "AmpEsc_img = cv2.convertScaleAbs(original_img, alpha=alpha, beta=beta)\n",
    "\n",
    "# Aplicar CLAHE\n",
    "filtro_clahe = cv2.createCLAHE(clipLimit=4, tileGridSize=(32, 32))\n",
    "CLAHE_img = filtro_clahe.apply(original_img)\n",
    "\n",
    "# Mostrar las imágenes\n",
    "cv2.imshow(\"Original\", original_img)\n",
    "cv2.imshow(\"Ecualizada\", equaliz_img)\n",
    "cv2.imshow(\"AmpEscala\", AmpEsc_img)\n",
    "cv2.imshow(\"CLAHE\", CLAHE_img)\n",
    "\n",
    "cv2.waitKey(0)\n",
    "cv2.destroyAllWindows()\n"
   ]
  }
 ],
 "metadata": {
  "kernelspec": {
   "display_name": "Python 3",
   "language": "python",
   "name": "python3"
  },
  "language_info": {
   "codemirror_mode": {
    "name": "ipython",
    "version": 3
   },
   "file_extension": ".py",
   "mimetype": "text/x-python",
   "name": "python",
   "nbconvert_exporter": "python",
   "pygments_lexer": "ipython3",
   "version": "3.11.2"
  }
 },
 "nbformat": 4,
 "nbformat_minor": 2
}
